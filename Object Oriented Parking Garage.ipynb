{
 "cells": [
  {
   "cell_type": "code",
   "execution_count": 12,
   "metadata": {},
   "outputs": [
    {
     "name": "stdout",
     "output_type": "stream",
     "text": [
      "[1, 2, 3, 4, 5]\n",
      "[1, 2, 3, 4, 5]\n",
      "[2, 3, 4, 5]\n",
      "[2, 3, 4, 5]\n",
      "1\n"
     ]
    }
   ],
   "source": [
    "class Garage:\n",
    "    #initialize how many spots garage has (capacity)\n",
    "    tickets=[1,2,3,4,5]\n",
    "    parkingSpaces=[1,2,3,4,5]\n",
    "    currentTicket={}\n",
    "    \n",
    "    def __ini__(self):\n",
    "        pass\n",
    "    \n",
    "    #Create Method:\n",
    "    \n",
    "    # takeTicket\n",
    "    def takeTicket(self):\n",
    "        self.currentTicket=self.tickets[0]\n",
    "        self.tickets.pop(0)\n",
    "        self.parkingSpaces.pop(0)\n",
    "    # payForParking\n",
    "    def payForParking(self):\n",
    "        \n",
    "    # leaveGarage\n",
    "    def leaveGarage(self):\n",
    "        pass\n",
    "newGarage=Garage()\n",
    "print(newGarage.tickets)\n",
    "print(newGarage.parkingSpaces)\n",
    "newGarage.takeTicket()\n",
    "print(newGarage.tickets)\n",
    "print(newGarage.parkingSpaces)\n",
    "print(newGarage.currentTicket)"
   ]
  }
 ],
 "metadata": {
  "kernelspec": {
   "display_name": "Python 3",
   "language": "python",
   "name": "python3"
  },
  "language_info": {
   "codemirror_mode": {
    "name": "ipython",
    "version": 3
   },
   "file_extension": ".py",
   "mimetype": "text/x-python",
   "name": "python",
   "nbconvert_exporter": "python",
   "pygments_lexer": "ipython3",
   "version": "3.8.5"
  }
 },
 "nbformat": 4,
 "nbformat_minor": 4
}
